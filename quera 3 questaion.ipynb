{
 "cells": [
  {
   "cell_type": "code",
   "execution_count": null,
   "metadata": {},
   "outputs": [],
   "source": [
    "import pandas as pd\n",
    "import matplotlib.pyplot as plt\n",
    "Data = pd.read_csv('imdb_movies.csv')"
   ]
  },
  {
   "cell_type": "markdown",
   "metadata": {},
   "source": [
    "what was longest and shortest time movie name?"
   ]
  },
  {
   "cell_type": "markdown",
   "metadata": {},
   "source": [
    "clean_of_runtime = Data[Data['runtime'] != 0]\n",
    "longest_video = clean_of_runtime.loc[clean_of_runtime['runtime'].idxmax()]\n",
    "\n",
    "\n",
    "shortest_video = clean_of_runtime.loc[clean_of_runtime['runtime'].idxmin()]\n",
    "print(f\"Longest Video: {longest_video['original_title']} ({longest_video['runtime']} minutes)\")\n",
    "print(f\"Shortest Video: {shortest_video['original_title']} ({shortest_video['runtime']} minutes)\")"
   ]
  },
  {
   "cell_type": "markdown",
   "metadata": {},
   "source": [
    "show Averag time movies in years with parameter in minute and hour"
   ]
  },
  {
   "cell_type": "code",
   "execution_count": null,
   "metadata": {},
   "outputs": [],
   "source": [
    "clean_of_runtime = Data[Data['runtime'] != 0]\n",
    "clean_of_runtime['runtime(hours)'] = clean_of_runtime['runtime']//60\n",
    "clean_of_runtime['runtime(minutes)'] = clean_of_runtime['runtime']%60\n",
    "avg_runtime_in_year_hours = clean_of_runtime.groupby('release_year')['runtime(hours)'].mean()\n",
    "avg_runtime_in_year_min = clean_of_runtime.groupby('release_year')['runtime(minutes)'].mean()\n",
    "avg_runtime_in_year_hours\n",
    "#avg_runtime_in_year_min"
   ]
  },
  {
   "cell_type": "markdown",
   "metadata": {},
   "source": [
    "longest and shortest time movie?"
   ]
  },
  {
   "cell_type": "code",
   "execution_count": null,
   "metadata": {},
   "outputs": [],
   "source": [
    "clean_data= Data[Data['runtime'] != 0]\n",
    "max_time = clean_data['runtime'].max()\n",
    "min_time = clean_data['runtime'].min()\n",
    "print(f\"max time is {max_time} min time is {min_time}\")\n"
   ]
  }
 ],
 "metadata": {
  "language_info": {
   "name": "python"
  }
 },
 "nbformat": 4,
 "nbformat_minor": 2
}
